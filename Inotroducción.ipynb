{
 "cells": [
  {
   "cell_type": "markdown",
   "metadata": {},
   "source": [
    "### Introducción al ML\n",
    "- Probaremos los primeros pasos en ML de python desde 0."
   ]
  },
  {
   "cell_type": "code",
   "execution_count": 10,
   "metadata": {},
   "outputs": [
    {
     "name": "stdout",
     "output_type": "stream",
     "text": [
      "La media es:  52.90909090909091\n",
      "La media es:  52.90909090909091\n"
     ]
    }
   ],
   "source": [
    "#Vamos a utilizar los comandos más basicos de estadistica\n",
    "# MODA - MEDIA (promedio) - MEDIANA\n",
    "\n",
    "numeros = [99,88,54,68,35,47,12,34,45,23,77]\n",
    "media = (99 + 88 + 54 + 68 + 35 + 47 + 12 + 34 + 45 + 23 + 77) / 11\n",
    "\n",
    "print(\"La media es: \", media)\n",
    "media2 = sum(numeros)/len(numeros)\n",
    "print(\"La media es: \", media2)\n",
    "\n",
    "\n",
    "#Para el calculo de la mediana, primero ordenamos la lista\n",
    "mediana = 47"
   ]
  },
  {
   "cell_type": "markdown",
   "metadata": {},
   "source": [
    "### Numpy \n",
    "Es una libreria estadistica\n",
    "`pip install numpy`"
   ]
  },
  {
   "cell_type": "code",
   "execution_count": 13,
   "metadata": {},
   "outputs": [
    {
     "name": "stdout",
     "output_type": "stream",
     "text": [
      "La media es:  52.90909090909091\n",
      "La mediana es:  47.0\n"
     ]
    }
   ],
   "source": [
    "import numpy as np\n",
    "\n",
    "numeros = [12,23,34,35,45,47,54,68,77,88,99]\n",
    "\n",
    "#Calcular la media\n",
    "media = np.mean(numeros)\n",
    "print(\"La media es: \", media)\n",
    "\n",
    "#Calcular la mediana\n",
    "mediana = np.median(numeros)\n",
    "print(\"La mediana es: \", mediana)\n"
   ]
  },
  {
   "cell_type": "markdown",
   "metadata": {},
   "source": [
    "### Instalación de libreria Scipy\n",
    "\n",
    "`pip install scipy`"
   ]
  },
  {
   "cell_type": "code",
   "execution_count": 16,
   "metadata": {},
   "outputs": [
    {
     "name": "stdout",
     "output_type": "stream",
     "text": [
      "La moda es:  ModeResult(mode=68, count=2)\n"
     ]
    }
   ],
   "source": [
    "numeros = [12,23,34,35,45,47,54,68,77,88,99,68]\n",
    "\n",
    "#Calcular la moda\n",
    "from scipy import stats\n",
    "\n",
    "moda = stats.mode(numeros)\n",
    "print(\"La moda es: \", moda)"
   ]
  },
  {
   "cell_type": "markdown",
   "metadata": {},
   "source": [
    "### Desviación estandar - Varianza\n",
    "- Se utiiza numpy\n"
   ]
  },
  {
   "cell_type": "code",
   "execution_count": 20,
   "metadata": {},
   "outputs": [
    {
     "name": "stdout",
     "output_type": "stream",
     "text": [
      "La desviacion estandar es:  25.36018313989252\n",
      "La varianza es:  643.1388888888889\n",
      "La desviacion estandar es:  3.1622776601683795\n",
      "La varianza es:  10.0\n"
     ]
    }
   ],
   "source": [
    "import numpy as np\n",
    "numeros = [12,23,34,35,45,47,54,68,77,88,99,68]\n",
    "numeros_cercanos = [1,2,3,4,5,6,7,8,9,10,11]\n",
    "\n",
    "desEst = np.std(numeros)\n",
    "print(\"La desviacion estandar es: \", desEst)\n",
    "\n",
    "varianza = np.var(numeros)\n",
    "print(\"La varianza es: \", varianza)\n",
    "\n",
    "desEst = np.std(numeros_cercanos)\n",
    "print(\"La desviacion estandar es: \", desEst)\n",
    "\n",
    "varianza = np.var(numeros_cercanos)\n",
    "print(\"La varianza es: \", varianza)\n"
   ]
  },
  {
   "cell_type": "markdown",
   "metadata": {},
   "source": [
    "### Analisis de percentiles"
   ]
  },
  {
   "cell_type": "code",
   "execution_count": 26,
   "metadata": {},
   "outputs": [
    {
     "name": "stdout",
     "output_type": "stream",
     "text": [
      "El percentil 75 es:  50.0\n",
      "El percentil 90 es:  61.6\n",
      "El percentil 100 es:  82.0\n",
      "El percentil 30 es:  21.2\n"
     ]
    }
   ],
   "source": [
    "edadesPersonas = [5,31,48,50,49,80,82,8,6,57,3,76,9,10,12,15,18,20,22,25,27,30,32,35,37,40,42,45,47,52,55,60,62]\n",
    "\n",
    "import numpy as np\n",
    "\n",
    "x = np.percentile(edadesPersonas, 75)\n",
    "print(\"El percentil 75 es: \", x)\n",
    "x = np.percentile(edadesPersonas, 90)\n",
    "print(\"El percentil 90 es: \", x)\n",
    "x = np.percentile(edadesPersonas, 100)\n",
    "print(\"El percentil 100 es: \", x)\n",
    "x = np.percentile(edadesPersonas, 30)\n",
    "print(\"El percentil 30 es: \", x)\n",
    "\n"
   ]
  }
 ],
 "metadata": {
  "kernelspec": {
   "display_name": "Python 3",
   "language": "python",
   "name": "python3"
  },
  "language_info": {
   "codemirror_mode": {
    "name": "ipython",
    "version": 3
   },
   "file_extension": ".py",
   "mimetype": "text/x-python",
   "name": "python",
   "nbconvert_exporter": "python",
   "pygments_lexer": "ipython3",
   "version": "3.12.4"
  }
 },
 "nbformat": 4,
 "nbformat_minor": 2
}
